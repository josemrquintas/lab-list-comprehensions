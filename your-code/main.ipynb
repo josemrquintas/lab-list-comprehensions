{
 "cells": [
  {
   "cell_type": "markdown",
   "metadata": {},
   "source": [
    "# List Comprehensions Lab\n",
    "\n",
    "Complete the following set of exercises to solidify your knowledge of list comprehensions."
   ]
  },
  {
   "cell_type": "code",
   "execution_count": 1,
   "metadata": {},
   "outputs": [],
   "source": [
    "import os\n",
    "import numpy as np\n",
    "import pandas as pd"
   ]
  },
  {
   "cell_type": "markdown",
   "metadata": {},
   "source": [
    "### 1. Use a list comprehension to create and print a list of consecutive integers starting with 1 and ending with 50."
   ]
  },
  {
   "cell_type": "code",
   "execution_count": 3,
   "metadata": {},
   "outputs": [
    {
     "name": "stdout",
     "output_type": "stream",
     "text": [
      "[0, 1, 2, 3, 4, 5, 6, 7, 8, 9, 10, 11, 12, 13, 14, 15, 16, 17, 18, 19, 20, 21, 22, 23, 24, 25, 26, 27, 28, 29, 30, 31, 32, 33, 34, 35, 36, 37, 38, 39, 40, 41, 42, 43, 44, 45, 46, 47, 48, 49, 50]\n"
     ]
    }
   ],
   "source": [
    "lst1 = [x for x in range(51)]\n",
    "print(lst)\n"
   ]
  },
  {
   "cell_type": "markdown",
   "metadata": {},
   "source": [
    "### 2. Use a list comprehension to create and print a list of even numbers starting with 2 and ending with 200."
   ]
  },
  {
   "cell_type": "code",
   "execution_count": 5,
   "metadata": {},
   "outputs": [
    {
     "name": "stdout",
     "output_type": "stream",
     "text": [
      "[2, 3, 4, 5, 6, 7, 8, 9, 10, 11, 12, 13, 14, 15, 16, 17, 18, 19, 20, 21, 22, 23, 24, 25, 26, 27, 28, 29, 30, 31, 32, 33, 34, 35, 36, 37, 38, 39, 40, 41, 42, 43, 44, 45, 46, 47, 48, 49, 50, 51, 52, 53, 54, 55, 56, 57, 58, 59, 60, 61, 62, 63, 64, 65, 66, 67, 68, 69, 70, 71, 72, 73, 74, 75, 76, 77, 78, 79, 80, 81, 82, 83, 84, 85, 86, 87, 88, 89, 90, 91, 92, 93, 94, 95, 96, 97, 98, 99, 100, 101, 102, 103, 104, 105, 106, 107, 108, 109, 110, 111, 112, 113, 114, 115, 116, 117, 118, 119, 120, 121, 122, 123, 124, 125, 126, 127, 128, 129, 130, 131, 132, 133, 134, 135, 136, 137, 138, 139, 140, 141, 142, 143, 144, 145, 146, 147, 148, 149, 150, 151, 152, 153, 154, 155, 156, 157, 158, 159, 160, 161, 162, 163, 164, 165, 166, 167, 168, 169, 170, 171, 172, 173, 174, 175, 176, 177, 178, 179, 180, 181, 182, 183, 184, 185, 186, 187, 188, 189, 190, 191, 192, 193, 194, 195, 196, 197, 198, 199, 200]\n"
     ]
    }
   ],
   "source": [
    "lst2 = [x for x in range(2,201)]\n",
    "print(lst2)"
   ]
  },
  {
   "cell_type": "markdown",
   "metadata": {},
   "source": [
    "### 3. Use a list comprehension to create and print a list containing all elements of the 10 x 4 Numpy array below."
   ]
  },
  {
   "cell_type": "code",
   "execution_count": 11,
   "metadata": {},
   "outputs": [
    {
     "name": "stdout",
     "output_type": "stream",
     "text": [
      "[0.84062117, 0.48006452, 0.7876326, 0.77109654, 0.44409793, 0.09014516, 0.81835917, 0.87645456, 0.7066597, 0.09610873, 0.41247947, 0.57433389, 0.29960807, 0.42315023, 0.34452557, 0.4751035, 0.17003563, 0.46843998, 0.92796258, 0.69814654, 0.41290051, 0.19561071, 0.16284783, 0.97016248, 0.71725408, 0.87702738, 0.31244595, 0.76615487, 0.20754036, 0.57871812, 0.07214068, 0.40356048, 0.12149553, 0.53222417, 0.9976855, 0.12536346, 0.80930099, 0.50962849, 0.94555126, 0.33364763]\n"
     ]
    }
   ],
   "source": [
    "a = np.array([[0.84062117, 0.48006452, 0.7876326 , 0.77109654],\n",
    "       [0.44409793, 0.09014516, 0.81835917, 0.87645456],\n",
    "       [0.7066597 , 0.09610873, 0.41247947, 0.57433389],\n",
    "       [0.29960807, 0.42315023, 0.34452557, 0.4751035 ],\n",
    "       [0.17003563, 0.46843998, 0.92796258, 0.69814654],\n",
    "       [0.41290051, 0.19561071, 0.16284783, 0.97016248],\n",
    "       [0.71725408, 0.87702738, 0.31244595, 0.76615487],\n",
    "       [0.20754036, 0.57871812, 0.07214068, 0.40356048],\n",
    "       [0.12149553, 0.53222417, 0.9976855 , 0.12536346],\n",
    "       [0.80930099, 0.50962849, 0.94555126, 0.33364763]])\n",
    "\n",
    "lst_a = [x for lst in a for x in lst]\n",
    "print(lst_a)"
   ]
  },
  {
   "cell_type": "code",
   "execution_count": null,
   "metadata": {},
   "outputs": [],
   "source": []
  },
  {
   "cell_type": "markdown",
   "metadata": {},
   "source": [
    "### 4. Add a condition to the list comprehension above so that only values greater than or equal to 0.5 are printed."
   ]
  },
  {
   "cell_type": "code",
   "execution_count": 10,
   "metadata": {},
   "outputs": [
    {
     "name": "stdout",
     "output_type": "stream",
     "text": [
      "[0.84062117, 0.7876326, 0.77109654, 0.81835917, 0.87645456, 0.7066597, 0.57433389, 0.92796258, 0.69814654, 0.97016248, 0.71725408, 0.87702738, 0.76615487, 0.57871812, 0.53222417, 0.9976855, 0.80930099, 0.50962849, 0.94555126]\n"
     ]
    }
   ],
   "source": [
    "lst_a = [x for lst in a for x in lst if x >= 0.5]\n",
    "print(lst_a)"
   ]
  },
  {
   "cell_type": "markdown",
   "metadata": {},
   "source": [
    "### 5. Use a list comprehension to create and print a list containing all elements of the 5 x 2 x 3 Numpy array below."
   ]
  },
  {
   "cell_type": "code",
   "execution_count": 47,
   "metadata": {},
   "outputs": [
    {
     "data": {
      "text/plain": [
       "numpy.ndarray"
      ]
     },
     "execution_count": 47,
     "metadata": {},
     "output_type": "execute_result"
    }
   ],
   "source": [
    "b = np.array([[[0.55867166, 0.06210792, 0.08147297],\n",
    "        [0.82579068, 0.91512478, 0.06833034]],\n",
    "\n",
    "       [[0.05440634, 0.65857693, 0.30296619],\n",
    "        [0.06769833, 0.96031863, 0.51293743]],\n",
    "\n",
    "       [[0.09143215, 0.71893382, 0.45850679],\n",
    "        [0.58256464, 0.59005654, 0.56266457]],\n",
    "\n",
    "       [[0.71600294, 0.87392666, 0.11434044],\n",
    "        [0.8694668 , 0.65669313, 0.10708681]],\n",
    "\n",
    "       [[0.07529684, 0.46470767, 0.47984544],\n",
    "        [0.65368638, 0.14901286, 0.23760688]]])\n",
    "type(b)"
   ]
  },
  {
   "cell_type": "code",
   "execution_count": 62,
   "metadata": {
    "scrolled": true
   },
   "outputs": [
    {
     "name": "stdout",
     "output_type": "stream",
     "text": [
      "[0.55867166, 0.06210792, 0.08147297, 0.82579068, 0.91512478, 0.06833034, 0.05440634, 0.65857693, 0.30296619, 0.06769833, 0.96031863, 0.51293743, 0.09143215, 0.71893382, 0.45850679, 0.58256464, 0.59005654, 0.56266457, 0.71600294, 0.87392666, 0.11434044, 0.8694668, 0.65669313, 0.10708681, 0.07529684, 0.46470767, 0.47984544, 0.65368638, 0.14901286, 0.23760688]\n"
     ]
    }
   ],
   "source": [
    "\n",
    "lst_b = [x for lst_lst in b for lst in lst_lst for x in lst]\n",
    "\n",
    "print(lst_b)"
   ]
  },
  {
   "cell_type": "markdown",
   "metadata": {},
   "source": [
    "### 6. Add a condition to the list comprehension above so that the last value in each subarray is printed, but only if it is less than or equal to 0.5."
   ]
  },
  {
   "cell_type": "code",
   "execution_count": 89,
   "metadata": {},
   "outputs": [
    {
     "name": "stdout",
     "output_type": "stream",
     "text": [
      "[0.08147297, 0.06833034, 0.30296619, 0.45850679, 0.11434044, 0.10708681, 0.47984544, 0.23760688]\n"
     ]
    }
   ],
   "source": [
    "list6 = [l[-1] for ll in b for l in ll if l[-1]<=0.5]\n",
    "print(list6)\n"
   ]
  },
  {
   "cell_type": "markdown",
   "metadata": {},
   "source": [
    "### 7. Use a list comprehension to select and print the names of all CSV files in the */data* directory."
   ]
  },
  {
   "cell_type": "code",
   "execution_count": 18,
   "metadata": {},
   "outputs": [
    {
     "name": "stdout",
     "output_type": "stream",
     "text": [
      "['sample_file_6.csv', 'sample_file_0.csv', 'sample_file_3.csv', 'sample_file_5.csv', 'sample_file_8.csv', 'sample_file_1.csv', 'sample_file_4.csv', 'sample_file_7.csv', 'sample_file_9.csv', 'sample_file_2.csv']\n"
     ]
    }
   ],
   "source": [
    "list_csv_files_name = [f for f in os.listdir('../data') if f.endswith('.csv')]\n",
    "\n",
    "print(list_csv_files_names)"
   ]
  },
  {
   "cell_type": "markdown",
   "metadata": {},
   "source": [
    "### 8. Use a list comprehension and the Pandas `read_csv` and `concat` methods to read all CSV files in the */data* directory and combine them into a single data frame. Display the top 10 rows of the resulting data frame."
   ]
  },
  {
   "cell_type": "code",
   "execution_count": 40,
   "metadata": {},
   "outputs": [
    {
     "name": "stdout",
     "output_type": "stream",
     "text": [
      "           0         1         2         3         4         5         6  \\\n",
      "1   0.177005  0.649551  0.467321  0.449597  0.458872  0.815586  0.455132   \n",
      "2   0.689556  0.445586  0.005691  0.150171  0.554146  0.492320  0.185612   \n",
      "3   0.047188  0.854596  0.833368  0.043878  0.883505  0.786302  0.980916   \n",
      "4   0.936065  0.725831  0.184239  0.677391  0.242726  0.125457  0.356254   \n",
      "5   0.734751  0.195362  0.734309  0.598184  0.763433  0.263434  0.868066   \n",
      "6   0.772607  0.445391  0.249642  0.787922  0.598583  0.827238  0.624126   \n",
      "7   0.226428  0.268764  0.694262  0.622335  0.063843  0.122683  0.815625   \n",
      "8   0.362748  0.495430  0.113876  0.594149  0.612522  0.625204  0.864050   \n",
      "9   0.033415  0.340433  0.464971  0.363737  0.025815  0.434129  0.415163   \n",
      "10  0.376101  0.896590  0.500995  0.381416  0.447730  0.048472  0.094235   \n",
      "\n",
      "           7         8         9        10        11        12        13  \\\n",
      "1   0.729812  0.998528  0.048724  0.377391  0.729498  0.721515  0.566724   \n",
      "2   0.060855  0.457443  0.847337  0.603072  0.346574  0.898464  0.482963   \n",
      "3   0.004030  0.619601  0.547769  0.160962  0.545281  0.931623  0.991855   \n",
      "4   0.937350  0.215774  0.212762  0.483018  0.573162  0.634487  0.423924   \n",
      "5   0.058092  0.753502  0.587513  0.311608  0.178356  0.182922  0.147631   \n",
      "6   0.601524  0.688753  0.338870  0.081595  0.471474  0.267443  0.453351   \n",
      "7   0.584542  0.032594  0.589775  0.764350  0.650973  0.565705  0.691784   \n",
      "8   0.260279  0.528873  0.168043  0.715929  0.677014  0.175735  0.632370   \n",
      "9   0.892210  0.381701  0.415264  0.790801  0.696930  0.819751  0.944029   \n",
      "10  0.986890  0.582352  0.037230  0.130306  0.766153  0.153783  0.199140   \n",
      "\n",
      "          14        15        16        17        18        19  \n",
      "1   0.338366  0.877239  0.129824  0.773155  0.485385  0.686294  \n",
      "2   0.443979  0.430132  0.713078  0.302786  0.051382  0.203699  \n",
      "3   0.821099  0.654592  0.346710  0.183948  0.372739  0.739383  \n",
      "4   0.394633  0.766967  0.606719  0.538712  0.885516  0.667051  \n",
      "5   0.391188  0.816049  0.749068  0.293260  0.937828  0.880858  \n",
      "6   0.800716  0.045749  0.683793  0.389789  0.016787  0.503695  \n",
      "7   0.265223  0.739031  0.560394  0.334802  0.517694  0.646110  \n",
      "8   0.926715  0.085675  0.120525  0.141746  0.771144  0.489660  \n",
      "9   0.869965  0.041723  0.819140  0.676051  0.109349  0.872947  \n",
      "10  0.330318  0.969657  0.110998  0.033474  0.117277  0.213938  \n"
     ]
    }
   ],
   "source": [
    "# file_list = [f for f in os.listdir('./data') if f.endswith('.csv')]\n",
    "# data_sets = [pd.read_csv(os.path.join('./data', f)) for f in file_list]\n",
    "# data = pd.concat(data_sets, axis=0)\n",
    "\n",
    "data_sets = [pd.read_csv(os.path.join('../data',f)) for f in list_csv_files_name]\n",
    "\n",
    "dataframe = pd.concat(data_sets, axis=0, ignore_index = True)\n",
    "print(dataframe[1:11])\n",
    "#print(dataframe)"
   ]
  },
  {
   "cell_type": "markdown",
   "metadata": {},
   "source": [
    "### 9. Use a list comprehension to select and print the column numbers for columns from the data set whose median is less than 0.48."
   ]
  },
  {
   "cell_type": "code",
   "execution_count": 44,
   "metadata": {},
   "outputs": [
    {
     "name": "stdout",
     "output_type": "stream",
     "text": [
      "0     0.518393\n",
      "1     0.498298\n",
      "2     0.476174\n",
      "3     0.617797\n",
      "4     0.544392\n",
      "5     0.652570\n",
      "6     0.589559\n",
      "7     0.652583\n",
      "8     0.484164\n",
      "9     0.456142\n",
      "10    0.529412\n",
      "11    0.517590\n",
      "12    0.450881\n",
      "13    0.693514\n",
      "14    0.432621\n",
      "15    0.574287\n",
      "16    0.527874\n",
      "17    0.473843\n",
      "18    0.537067\n",
      "19    0.556300\n",
      "dtype: float64\n"
     ]
    },
    {
     "data": {
      "text/plain": [
       "pandas.core.series.Series"
      ]
     },
     "execution_count": 44,
     "metadata": {},
     "output_type": "execute_result"
    }
   ],
   "source": [
    "dataframe_medians = pd.DataFrame.median(dataframe, axis = 0)\n",
    "print(dataframe_medians)\n",
    "\n",
    "correct_columns = [x for ]\n",
    "\n"
   ]
  },
  {
   "cell_type": "markdown",
   "metadata": {},
   "source": [
    "### 10. Use a list comprehension to add a new column (20) to the data frame whose values are the values in column 19 minus 0.1. Display the top 10 rows of the resulting data frame."
   ]
  },
  {
   "cell_type": "code",
   "execution_count": null,
   "metadata": {},
   "outputs": [],
   "source": []
  },
  {
   "cell_type": "markdown",
   "metadata": {},
   "source": [
    "### 11. Use a list comprehension to extract and print all values from the data set that are between 0.7 and 0.75."
   ]
  },
  {
   "cell_type": "code",
   "execution_count": 92,
   "metadata": {},
   "outputs": [
    {
     "ename": "SyntaxError",
     "evalue": "invalid syntax (<ipython-input-92-d8d27bfa6cd2>, line 1)",
     "output_type": "error",
     "traceback": [
      "\u001b[0;36m  File \u001b[0;32m\"<ipython-input-92-d8d27bfa6cd2>\"\u001b[0;36m, line \u001b[0;32m1\u001b[0m\n\u001b[0;31m    lst_1231 = [x for lst_lst in dataframe for x in lst_lst for if (x>=0.7 and x<=0.75)]\u001b[0m\n\u001b[0m                                                                 ^\u001b[0m\n\u001b[0;31mSyntaxError\u001b[0m\u001b[0;31m:\u001b[0m invalid syntax\n"
     ]
    }
   ],
   "source": []
  },
  {
   "cell_type": "code",
   "execution_count": null,
   "metadata": {},
   "outputs": [],
   "source": []
  }
 ],
 "metadata": {
  "kernelspec": {
   "display_name": "Python 3",
   "language": "python",
   "name": "python3"
  },
  "language_info": {
   "codemirror_mode": {
    "name": "ipython",
    "version": 3
   },
   "file_extension": ".py",
   "mimetype": "text/x-python",
   "name": "python",
   "nbconvert_exporter": "python",
   "pygments_lexer": "ipython3",
   "version": "3.6.9"
  }
 },
 "nbformat": 4,
 "nbformat_minor": 2
}
